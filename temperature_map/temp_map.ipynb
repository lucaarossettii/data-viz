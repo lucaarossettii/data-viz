{
 "cells": [
  {
   "cell_type": "code",
   "execution_count": 4,
   "id": "dcc9906d-de19-43d4-ab20-70ad353c0235",
   "metadata": {
    "tags": []
   },
   "outputs": [],
   "source": [
    "import pandas as pd\n",
    "import plotly.express as px\n",
    "\n",
    "# Load your data\n",
    "data = pd.read_csv('/Users/lucarossetti/Downloads/FAOSTAT_data_en_1-7-2024.csv')\n",
    "\n",
    "# Create an interactive map using Plotly with a default color scale\n",
    "fig = px.choropleth(\n",
    "    data, \n",
    "    locations=\"Area\", \n",
    "    locationmode=\"country names\",\n",
    "    color=\"Value\", \n",
    "    hover_name=\"Area\", \n",
    "    animation_frame=\"Year\",\n",
    "    color_continuous_scale=px.colors.sequential.Plasma,  \n",
    "    projection=\"natural earth\",\n",
    "    title=\"Temperature Change by Country Over Years\",\n",
    "    range_color=[-1, 2.5]  \n",
    ")\n",
    "\n",
    "# Update layout to add a slider for years and improve map aesthetics\n",
    "fig.update_layout(\n",
    "    geo=dict(showframe=False, showcoastlines=False),\n",
    "    margin={\"r\":0,\"t\":0,\"l\":0,\"b\":0}\n",
    ")\n",
    "\n",
    "fig.show()\n"
   ]
  },
  {
   "cell_type": "code",
   "execution_count": 3,
   "id": "e4e40fab-3b52-41be-ad3f-e9ecb1def6b6",
   "metadata": {
    "tags": []
   },
   "outputs": [],
   "source": [
    "import plotly.io as pio\n",
    "pio.renderers.default = 'browser'"
   ]
  }
 ],
 "metadata": {
  "kernelspec": {
   "display_name": "Python 3 (ipykernel)",
   "language": "python",
   "name": "python3"
  },
  "language_info": {
   "codemirror_mode": {
    "name": "ipython",
    "version": 3
   },
   "file_extension": ".py",
   "mimetype": "text/x-python",
   "name": "python",
   "nbconvert_exporter": "python",
   "pygments_lexer": "ipython3",
   "version": "3.11.4"
  }
 },
 "nbformat": 4,
 "nbformat_minor": 5
}
